{
 "cells": [
  {
   "cell_type": "markdown",
   "metadata": {},
   "source": [
    "## 04 - Introduction to Frequency Analysis\n",
    "\n",
    "Moacir A. Ponti\n",
    "\n",
    "ICMC / USP\n",
    "\n",
    "---\n",
    "We are going to introduce how to analyse signals $f(x)$ and images $f(x,y)$ with respect to the intensity oscilation/variation along the variables $x$ and/or $y$ in terms of **frequencies** defined by mathematical functions."
   ]
  },
  {
   "cell_type": "code",
   "execution_count": null,
   "metadata": {},
   "outputs": [],
   "source": [
    "import numpy as np\n",
    "import imageio\n",
    "import matplotlib.pyplot as plt"
   ]
  },
  {
   "cell_type": "markdown",
   "metadata": {},
   "source": [
    "*Repeated* patterns of variation, is related to **periodicity**\n",
    "\n",
    "Simple mathematical functions that has this property are:\n",
    "* **sine** and **cosine**.\n",
    "\n",
    "*Sinusoudal functions* at\n",
    "* **low** frequencies present slow or smooth variation, \n",
    "* **high frequency**  present fast oscilations. \n",
    "\n",
    "Let us create a sine function evaluated in the interval of time between 0 and 1, with step 0.001.\n",
    "\n",
    "First we create the variable responsible to define the sampling along the time axis."
   ]
  },
  {
   "cell_type": "code",
   "execution_count": null,
   "metadata": {},
   "outputs": [],
   "source": [
    "t = np.arange(0, 1, 0.001)\n",
    "print(\"Number of observations: \", t.shape)"
   ]
  },
  {
   "cell_type": "markdown",
   "metadata": {},
   "source": [
    "This means we are going to sample 1000 points \"per second\".\n",
    "\n",
    "Now, we create a sine that is periodic with period $2\\pi$ along $t$"
   ]
  },
  {
   "cell_type": "code",
   "execution_count": null,
   "metadata": {},
   "outputs": [],
   "source": [
    "mysine = np.sin(2*np.pi*t)\n",
    "plt.figure(figsize=(10,4))\n",
    "plt.plot(t, mysine)"
   ]
  },
  {
   "cell_type": "code",
   "execution_count": null,
   "metadata": {},
   "outputs": [],
   "source": [
    "# increasing frequency to 4\n",
    "mysine4 = np.sin(2*np.pi*t*4)\n",
    "plt.figure(figsize=(10,4))\n",
    "plt.plot(t, mysine4)"
   ]
  },
  {
   "cell_type": "code",
   "execution_count": null,
   "metadata": {},
   "outputs": [],
   "source": [
    "# changing to cosine at 4\n",
    "mycos4 = np.cos(2*np.pi*t*4)\n",
    "plt.figure(figsize=(10,4))\n",
    "plt.plot(t, mycos4)"
   ]
  },
  {
   "cell_type": "code",
   "execution_count": null,
   "metadata": {},
   "outputs": [],
   "source": [
    "# increasing frequency to 18\n",
    "mycos18 = np.cos(2*np.pi*t*18)\n",
    "plt.figure(figsize=(10,4))\n",
    "plt.plot(t, mycos18)"
   ]
  },
  {
   "cell_type": "code",
   "execution_count": null,
   "metadata": {},
   "outputs": [],
   "source": [
    "# combining all four functions:\n",
    "myfun = mysine + mysine4 + mycos4 + mycos18"
   ]
  },
  {
   "cell_type": "code",
   "execution_count": null,
   "metadata": {
    "scrolled": true
   },
   "outputs": [],
   "source": [
    "plt.figure(figsize=(10,4))\n",
    "plt.plot(t, myfun)"
   ]
  },
  {
   "cell_type": "markdown",
   "metadata": {},
   "source": [
    "We know the function has:\n",
    "* sines in frequencies 1 and 4\n",
    "* cosines in frequencies 4 and 18\n",
    "\n",
    "Now let us match the function with sines and cosines in frequencies 3 Hz (not part of signal) and 4 Hz (part of signal)"
   ]
  },
  {
   "cell_type": "code",
   "execution_count": null,
   "metadata": {},
   "outputs": [],
   "source": [
    "Omega = 4\n",
    "match_sin_4 = myfun * np.sin(Omega*(2*np.pi)*t)\n",
    "match_cos_4 = myfun * np.cos(Omega*(2*np.pi)*t)\n",
    "print(\"Sum of matching sines at 4 = %.4f\" % np.sum(match_sin_4))\n",
    "print(\"Sum of matching cosines at 4 = %.4f\" % np.sum(match_cos_4))"
   ]
  },
  {
   "cell_type": "code",
   "execution_count": null,
   "metadata": {},
   "outputs": [],
   "source": [
    "Omega = 3\n",
    "match_sin_3 = myfun * np.sin(Omega*(2*np.pi)*t)\n",
    "match_cos_3 = myfun * np.cos(Omega*(2*np.pi)*t)\n",
    "print(\"Sum of matching sines at 3 = %.4f\" % np.sum(match_sin_3))\n",
    "print(\"Sum of matching cosines at 3 = %.4f\" % np.sum(match_cos_3))"
   ]
  },
  {
   "cell_type": "markdown",
   "metadata": {},
   "source": [
    "This procedure was able to *detect that our function nas 4 Hz patterns* while the 3 Hz is absent!\n",
    "\n",
    "Let us plot the point-wise multiplication to see this effect:"
   ]
  },
  {
   "cell_type": "code",
   "execution_count": null,
   "metadata": {},
   "outputs": [],
   "source": [
    "plt.figure(figsize=(10,4))\n",
    "plt.plot(t, myfun, '-k')\n",
    "plt.plot(t, match_sin_3, '--r')\n",
    "plt.title('Matching sin at 3Hz')"
   ]
  },
  {
   "cell_type": "code",
   "execution_count": null,
   "metadata": {},
   "outputs": [],
   "source": [
    "plt.figure(figsize=(10,4))\n",
    "plt.plot(t, myfun, 'k')\n",
    "plt.plot(t, match_sin_4, '--r')\n",
    "plt.title('Matching sin at 4Hz')"
   ]
  },
  {
   "cell_type": "markdown",
   "metadata": {},
   "source": [
    "We can code a function to measure that for many frequencies!"
   ]
  },
  {
   "cell_type": "code",
   "execution_count": null,
   "metadata": {},
   "outputs": [],
   "source": [
    "def match_freqs(f, t, maxfreq):\n",
    "    \n",
    "    print(\"Coefficients of sine and cosine matching\")\n",
    "    print(\"Omega\\tSine\\tCosine\")\n",
    "    for Omega in np.arange(0, maxfreq):\n",
    "        match_sin = np.sum(f * np.sin(Omega*(2*np.pi)*t)).astype(float)\n",
    "        match_cos = np.sum(f * np.cos(Omega*(2*np.pi)*t)).astype(float)\n",
    "        print('%d\\t%.1f\\t%.1f' % (Omega, match_sin, match_cos))\n",
    "        "
   ]
  },
  {
   "cell_type": "code",
   "execution_count": null,
   "metadata": {},
   "outputs": [],
   "source": [
    "match_freqs(myfun, t, 22)"
   ]
  },
  {
   "cell_type": "markdown",
   "metadata": {},
   "source": [
    "### Frequency Analysis and Images\n",
    "\n",
    "A way to interpret signal and image characteristics is via **frequencies** in which *lower* frequencies are related to smooth transitions, while *higher* frequencies are related to abrupt changes along $x$ or $x,y$.\n",
    "\n",
    "The **Fourier Transform** is a method to *describe* signals in terms of the frequency content. But before delving into this method, let us first motivate and give the rationale behind the description of signals in frequencies.\n"
   ]
  },
  {
   "cell_type": "code",
   "execution_count": null,
   "metadata": {},
   "outputs": [],
   "source": [
    "img1 = imageio.imread(\"images/gradient_noise.png\")\n",
    "img2 = imageio.imread(\"images/pattern.png\")\n",
    "img3 = imageio.imread(\"images/sin1.png\")"
   ]
  },
  {
   "cell_type": "markdown",
   "metadata": {},
   "source": [
    "Those three images contain different variation of intensities"
   ]
  },
  {
   "cell_type": "code",
   "execution_count": null,
   "metadata": {},
   "outputs": [],
   "source": [
    "plt.figure(figsize=(15,5)) \n",
    "plt.subplot(131)\n",
    "plt.imshow(img1, cmap=\"gray\")\n",
    "plt.axis('off')\n",
    "plt.subplot(132)\n",
    "plt.imshow(img2, cmap=\"gray\")\n",
    "plt.axis('off')\n",
    "plt.subplot(133)\n",
    "plt.imshow(img3, cmap=\"gray\")\n",
    "plt.axis('off')"
   ]
  },
  {
   "cell_type": "markdown",
   "metadata": {},
   "source": [
    "The first is a ramp of intensities with noise. \n",
    "\n",
    "Pixels have a high degree of local variation. \n",
    "\n",
    "Let us plot the image and show the values relative to a small region of pixels. Note how each pixel is different in each neighbour region."
   ]
  },
  {
   "cell_type": "code",
   "execution_count": null,
   "metadata": {},
   "outputs": [],
   "source": [
    "plt.figure(figsize=(6,6)) \n",
    "plt.imshow(img1, cmap=\"gray\")\n",
    "plt.axis('off')"
   ]
  },
  {
   "cell_type": "markdown",
   "metadata": {},
   "source": [
    "Let us visualise a subimage:"
   ]
  },
  {
   "cell_type": "code",
   "execution_count": null,
   "metadata": {},
   "outputs": [],
   "source": [
    "print(img1[200:210, 200:210])"
   ]
  },
  {
   "cell_type": "markdown",
   "metadata": {},
   "source": [
    "Doing the same with other images.\n",
    "\n",
    "The other images include flat regions: indicating no local variation, and with more smooth transitions"
   ]
  },
  {
   "cell_type": "code",
   "execution_count": null,
   "metadata": {},
   "outputs": [],
   "source": [
    "plt.figure(figsize=(6,6)) \n",
    "plt.imshow(img2, cmap=\"gray\"); plt.axis('off')\n",
    "print(img1[200:210, 200:210])"
   ]
  },
  {
   "cell_type": "code",
   "execution_count": null,
   "metadata": {},
   "outputs": [],
   "source": [
    "plt.figure(figsize=(6,6)) \n",
    "plt.imshow(img3, cmap=\"gray\")\n",
    "plt.axis('off')\n",
    "\n",
    "print(img3[200:210, 200:210])"
   ]
  },
  {
   "cell_type": "markdown",
   "metadata": {},
   "source": [
    "Intuitively, we would like to have a method that allows discriminating information related to smooth, slower, transitions from those related to faster oscilation of intensities."
   ]
  },
  {
   "cell_type": "markdown",
   "metadata": {},
   "source": [
    "Let us simplify the analysis with a 1D vector containing 128 elements by fixing the coordinate $x=100$ and varying $y$, as follows."
   ]
  },
  {
   "cell_type": "code",
   "execution_count": null,
   "metadata": {},
   "outputs": [],
   "source": [
    "vec3 = img3[100, 64:192]\n",
    "print(vec3[:16])\n",
    "plt.plot(vec3)"
   ]
  },
  {
   "cell_type": "markdown",
   "metadata": {},
   "source": [
    "By inspecting such plot, what can you infer about the transition of the intensities? Is it abrupt/fast or slower/smooth?\n",
    "\n",
    "Now let us obtain an array of similar size, but from the noisy image, and observe its transition patterns"
   ]
  },
  {
   "cell_type": "code",
   "execution_count": null,
   "metadata": {},
   "outputs": [],
   "source": [
    "vec2 = img2[100, 64:192]\n",
    "print(vec2[:16])\n",
    "plt.plot(vec2)"
   ]
  },
  {
   "cell_type": "code",
   "execution_count": null,
   "metadata": {},
   "outputs": [],
   "source": [
    "vec1 = img1[100, 64:192]\n",
    "print(vec1[:16])\n",
    "plt.plot(vec1)"
   ]
  },
  {
   "cell_type": "markdown",
   "metadata": {},
   "source": [
    "---\n",
    "By analysing how the pixels change along coordinates, we describe the image using **frequencies** which allows:\n",
    "* a new representation\n",
    "* a tool for image processing"
   ]
  }
 ],
 "metadata": {
  "kernelspec": {
   "display_name": "Python 3",
   "language": "python",
   "name": "python3"
  },
  "language_info": {
   "codemirror_mode": {
    "name": "ipython",
    "version": 3
   },
   "file_extension": ".py",
   "mimetype": "text/x-python",
   "name": "python",
   "nbconvert_exporter": "python",
   "pygments_lexer": "ipython3",
   "version": "3.8.2"
  }
 },
 "nbformat": 4,
 "nbformat_minor": 2
}
